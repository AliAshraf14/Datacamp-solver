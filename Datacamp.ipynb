{
 "cells": [
  {
   "cell_type": "code",
   "execution_count": 2,
   "metadata": {},
   "outputs": [],
   "source": [
    "import os \n",
    "from bs4 import BeautifulSoup\n",
    "#import requests\n",
    "from selenium import webdriver\n",
    "from selenium.webdriver.chrome.options import Options  \n",
    "from selenium.webdriver.common.keys import Keys\n",
    "from selenium.webdriver.common.by import By\n",
    "from selenium.webdriver.support.wait import WebDriverWait\n",
    "from selenium.webdriver.support import expected_conditions as EC\n",
    "import pandas as pd\n",
    "from pymongo import MongoClient\n",
    "from collections.abc import Iterable\n",
    "import warnings\n",
    "import time\n",
    "import requests\n",
    "import urllib.request as urllib2\n",
    "from bs4 import BeautifulSoup\n",
    "from selenium.webdriver.common.keys import Keys\n",
    "from selenium.common.exceptions import NoSuchElementException\n",
    "from selenium.webdriver.support import expected_conditions\n",
    "from selenium.webdriver.common.action_chains import ActionChains\n",
    "from selenium.common.exceptions import TimeoutException\n",
    "from selenium.common.exceptions import StaleElementReferenceException\n",
    "from selenium.common.exceptions import ElementClickInterceptedException"
   ]
  },
  {
   "cell_type": "code",
   "execution_count": 17,
   "metadata": {},
   "outputs": [],
   "source": [
    "options = webdriver.ChromeOptions()\n",
    "options.add_argument('--no-sandbox')\n",
    "options.add_argument('--disable-dev-shm-usage')\n",
    "driver = webdriver.Chrome(r'C:\\Users\\Ali\\Downloads\\chromedriver_win32\\chromedriver.exe',options=options)\n",
    "driver.get('https://www.datacamp.com/users/sign_in')\n"
   ]
  },
  {
   "cell_type": "code",
   "execution_count": 4,
   "metadata": {},
   "outputs": [],
   "source": [
    "def create(url):\n",
    "    browser = webdriver.Chrome(r'/home/omarmohamed/myprojectdir/chromedriver')\n",
    "    browser.get(url)\n",
    "    return browser"
   ]
  },
  {
   "cell_type": "code",
   "execution_count": 5,
   "metadata": {},
   "outputs": [],
   "source": [
    "def setEmail(email):\n",
    "    WebDriverWait(driver,20).until(EC.presence_of_element_located((By.ID,'user_email'))).send_keys(email)\n",
    "    WebDriverWait(driver,20).until(EC.element_to_be_clickable((By.CLASS_NAME,'dc-btn.dc-btn--secondary.dc-btn--block.dc-account-modal__next-btn.js-account-check-email'))).click()\n",
    "\n",
    "\n",
    "\n",
    "def setPassword(password):\n",
    "    Xpath='//*[@id=\"user_password\"]'\n",
    "    passwordField=WebDriverWait(driver,20).until(EC.presence_of_element_located((By.XPATH,Xpath)))\n",
    "    if passwordField:\n",
    "        passwordField.send_keys(password)\n",
    "    \n",
    "\n",
    "def rememberMe():\n",
    "    driver.find_element_by_class_name(\"dc-input-checkbox\").click()\n",
    "\n",
    "\n",
    "\n",
    "\n",
    "def login(email,passowrd):\n",
    "    try:\n",
    "        setEmail(email)\n",
    "        #rememberMe()\n",
    "        driver.implicitly_wait(5)\n",
    "        setPassword(passowrd)\n",
    "        WebDriverWait(driver,20).until(EC.element_to_be_clickable((By.NAME,\"commit\"))).click()\n",
    "    except NoSuchElementException:\n",
    "        print(\"Error in setting password\")\n",
    "\n",
    "\n",
    "\n",
    "def loginCourse():\n",
    "        WebDriverWait(driver,20).until(EC.element_to_be_clickable((By.NAME,\"commit\"))).click()\n",
    "\n",
    "\n",
    "\n",
    "def moveToSigninPage():\n",
    "    classname=\"dc-btn.dc-btn--tertiary.dc-u-color-white.js-modal-open.js-sign-in-modal-open.dc-temp-replacement\"\n",
    "    WebDriverWait(driver,20).until(EC.presence_of_element_located((By.CLASS_NAME,classname))).click()"
   ]
  },
  {
   "cell_type": "code",
   "execution_count": 6,
   "metadata": {},
   "outputs": [],
   "source": [
    "def isVideo():\n",
    "    try:\n",
    "        WebDriverWait(driver,20).until(EC.presence_of_element_located((By.CLASS_NAME,\"css-zmlfql-baseStyle-buttonStyle\")))\n",
    "        return True\n",
    "    except TimeoutException:\n",
    "        return False\n",
    "def skipVideo():\n",
    "    WebDriverWait(driver,20).until(EC.presence_of_element_located((By.CLASS_NAME,\"css-zmlfql-baseStyle-buttonStyle\"))).click()\n",
    "\n",
    "    \n",
    "def isAdverAboutMobile():\n",
    "    try:\n",
    "        adver=driver.find_element_by_class_name(\"mobile-popup.dc-u-pt-24.dc-u-pb-16.dc-u-ph-24\")\n",
    "        if adver:\n",
    "            driver.find_element_by_class_name(\"modal-open\").send_keys(Keys.ESCAPE)\n",
    "        \n",
    "    except NoSuchElementException:\n",
    "        print(\"Exception Aderv\")\n",
    "        \n",
    "        "
   ]
  },
  {
   "cell_type": "code",
   "execution_count": 15,
   "metadata": {},
   "outputs": [],
   "source": [
    "def isAExerciseCode():\n",
    "    exercisecode=driver.find_elements_by_class_name(\"exercise--instructions.exercise--typography\")\n",
    "    if exercisecode:\n",
    "        return True\n",
    "    \n",
    "\n",
    "def showanswer():    \n",
    "    for click in range(2):\n",
    "        driver.find_element_by_class_name(\"listview__inner\").find_element_by_class_name(\"exercise--show-hint\").send_keys(Keys.CONTROL+\"H\")\n",
    "\n",
    "    \n",
    "def sumbitAnswer():\n",
    "   \n",
    "    xpath='//*[@id=\"gl-editorTabs-files/script.py\"]/div/div[2]/div[2]/button[3]'\n",
    "    WebDriverWait(driver,20).until(EC.presence_of_element_located((By.XPATH,xpath)))\n",
    "    driver.find_elements_by_class_name(\"ace_text-input\")[0].send_keys(Keys.CONTROL+Keys.SHIFT+Keys.ENTER)\n",
    "#     driver.execute_script('document.getElementsByClassName(\"css-1bm1oy-baseStyle-buttonStyle\")[0].click()')\n",
    "    \n",
    "\n",
    "def continueClick():\n",
    "    try:\n",
    "        driver.find_elements_by_class_name(\"dc-btn.dc-btn--green.u-spacing-t2.next-exercise.animation--shake\")[-1].send_keys(Keys.ENTER)    \n",
    "    except IndexError:\n",
    "        print(\"fkerrors\")\n",
    "    try:\n",
    "        driver.find_elements_by_class_name(\"dc-btn.dc-btn--green.u-spacing-t2.next-exercise.animation--shake\")[0].send_keys(Keys.ENTER)\n",
    "    except IndexError:\n",
    "        print(\"onar gay\")\n",
    "    try:\n",
    "        driver.find_elements_by_class_name(\"dc-completed__continue\")[-1].click()\n",
    "    except (IndexError,ElementClickInterceptedException):\n",
    "        print(\"gofki\")    \n"
   ]
  },
  {
   "cell_type": "code",
   "execution_count": 8,
   "metadata": {},
   "outputs": [],
   "source": [
    "def exerciseAnswer():\n",
    "    showanswer()\n",
    "    driver.find_elements_by_class_name(\"ace_text-input\")[1].send_keys(Keys.PAGE_DOWN+Keys.CONTROL+\"a\")\n",
    "    driver.find_elements_by_class_name(\"ace_text-input\")[1].send_keys(Keys.CONTROL+\"c\")\n",
    "    driver.refresh()\n",
    "    time.sleep(5)\n",
    "    driver.find_elements_by_class_name(\"ace_text-input\")[0].send_keys(Keys.CONTROL+\"a\"+Keys.DELETE)\n",
    "    driver.find_elements_by_class_name(\"ace_text-input\")[0].send_keys(Keys.CONTROL+\"v\")\n",
    "    \n",
    "    \n"
   ]
  },
  {
   "cell_type": "code",
   "execution_count": 9,
   "metadata": {},
   "outputs": [],
   "source": [
    "def isOptions():\n",
    "    options=driver.find_elements_by_class_name('dc-input-radio__text')\n",
    "    if options:\n",
    "        return True\n",
    "def switchOfsubmitAnswer():\n",
    "    xpath_type1='//*[@id=\"gl-aside\"]/div/aside/div/div/div/div[2]/div[2]/div/div/div[2]/div/div[1]/button'\n",
    "    xpath_type2='/html/body/div[2]/div/div[1]/div[1]/section/div[3]/button'\n",
    "    buttonType1=driver.find_elements_by_xpath(xpath_type1)\n",
    "    buttonType2=driver.find_elements_by_xpath(xpath_type2)\n",
    "    if buttonType1:\n",
    "        driver.find_elements_by_xpath(xpath_type1)[0].send_keys(Keys.SHIFT+Keys.ENTER)\n",
    "    elif buttonType2:\n",
    "        driver.find_elements_by_xpath(xpath_type2)[0].send_keys(Keys.SHIFT+Keys.ENTER)\n",
    "\n",
    "\n",
    "def chooseOption():\n",
    "    flagDoNothing=0\n",
    "    options=driver.find_elements_by_class_name(\"dc-input-radio__text\")\n",
    "    if options:\n",
    "        for indexOfOptions in range(len(options)):\n",
    "            if flagDoNothing==1:\n",
    "                try:\n",
    "                    driver.find_elements_by_class_name(\"dc-btn.dc-btn--green.u-spacing-t2.next-exercise.animation--shake\")[-1].click()\n",
    "                except IndexError:\n",
    "                    #driver.find_elements_by_class_name(\"dc-btn.dc-btn--green.u-spacing-t2.next-exercise.animation--shake\")[0].click()\n",
    "                    print('1')\n",
    "\n",
    "            try:\n",
    "                options[indexOfOptions].click()\n",
    "                switchOfsubmitAnswer()\n",
    "                time.sleep(1)\n",
    "                complete=driver.find_elements_by_class_name(\"dc-completed__body\")\n",
    "            except (StaleElementReferenceException,ElementClickInterceptedException):\n",
    "                print(\"fk excpetion\")\n",
    "            if complete:\n",
    "                flagDoNothing=1\n",
    "            \n",
    " \n",
    "        \n",
    "           \n",
    "        \n",
    "            \n"
   ]
  },
  {
   "cell_type": "code",
   "execution_count": 18,
   "metadata": {},
   "outputs": [],
   "source": [
    "login(\"your email\",\"your password\")"
   ]
  },
  {
   "cell_type": "code",
   "execution_count": 19,
   "metadata": {},
   "outputs": [],
   "source": [
    "#put her your link exercise\n",
    "time.sleep(7)\n",
    "driver.get(\"https://campus.datacamp.com/courses/linear-classifiers-in-python/logistic-regression-3?ex=13\")"
   ]
  },
  {
   "cell_type": "code",
   "execution_count": 20,
   "metadata": {},
   "outputs": [],
   "source": [
    "#find number of exrecises of all course\n",
    "driver.find_element_by_class_name(\"dc-nav-course__outline\").click()\n",
    "exerciseSection=driver.find_elements_by_class_name(\"course-outline__exercise\")\n",
    "driver.find_element_by_class_name(\"dc-icon-close\").click()\n"
   ]
  },
  {
   "cell_type": "code",
   "execution_count": 21,
   "metadata": {},
   "outputs": [
    {
     "name": "stdout",
     "output_type": "stream",
     "text": [
      "onar gay\n",
      "gofki\n",
      "Exception Aderv\n",
      "<selenium.webdriver.remote.webelement.WebElement (session=\"e69887557ea1817c36cebc1f16a58cbc\", element=\"06e7fe70-bad3-4e84-82df-b7b8b4dae7a8\")>\n"
     ]
    },
    {
     "ename": "WebDriverException",
     "evalue": "Message: chrome not reachable\n  (Session info: chrome=80.0.3987.163)\n",
     "output_type": "error",
     "traceback": [
      "\u001b[1;31m---------------------------------------------------------------------------\u001b[0m",
      "\u001b[1;31mWebDriverException\u001b[0m                        Traceback (most recent call last)",
      "\u001b[1;32m<ipython-input-21-0ef3c64cabfa>\u001b[0m in \u001b[0;36m<module>\u001b[1;34m\u001b[0m\n\u001b[0;32m     11\u001b[0m     \u001b[1;32mif\u001b[0m  \u001b[0misOptions\u001b[0m\u001b[1;33m(\u001b[0m\u001b[1;33m)\u001b[0m\u001b[1;33m:\u001b[0m\u001b[1;33m\u001b[0m\u001b[1;33m\u001b[0m\u001b[0m\n\u001b[0;32m     12\u001b[0m         \u001b[0mprint\u001b[0m\u001b[1;33m(\u001b[0m\u001b[0mexercise\u001b[0m\u001b[1;33m)\u001b[0m\u001b[1;33m\u001b[0m\u001b[1;33m\u001b[0m\u001b[0m\n\u001b[1;32m---> 13\u001b[1;33m         \u001b[0mchooseOption\u001b[0m\u001b[1;33m(\u001b[0m\u001b[1;33m)\u001b[0m\u001b[1;33m\u001b[0m\u001b[1;33m\u001b[0m\u001b[0m\n\u001b[0m\u001b[0;32m     14\u001b[0m         \u001b[0mtime\u001b[0m\u001b[1;33m.\u001b[0m\u001b[0msleep\u001b[0m\u001b[1;33m(\u001b[0m\u001b[1;36m5\u001b[0m\u001b[1;33m)\u001b[0m\u001b[1;33m\u001b[0m\u001b[1;33m\u001b[0m\u001b[0m\n\u001b[0;32m     15\u001b[0m         \u001b[1;31m#driver.find_elements_by_class_name(\"dc-btn__content\")[-1].click()\u001b[0m\u001b[1;33m\u001b[0m\u001b[1;33m\u001b[0m\u001b[1;33m\u001b[0m\u001b[0m\n",
      "\u001b[1;32m<ipython-input-9-7cbe80b0b6fa>\u001b[0m in \u001b[0;36mchooseOption\u001b[1;34m()\u001b[0m\n\u001b[0;32m     30\u001b[0m                 \u001b[0mswitchOfsubmitAnswer\u001b[0m\u001b[1;33m(\u001b[0m\u001b[1;33m)\u001b[0m\u001b[1;33m\u001b[0m\u001b[1;33m\u001b[0m\u001b[0m\n\u001b[0;32m     31\u001b[0m                 \u001b[0mtime\u001b[0m\u001b[1;33m.\u001b[0m\u001b[0msleep\u001b[0m\u001b[1;33m(\u001b[0m\u001b[1;36m1\u001b[0m\u001b[1;33m)\u001b[0m\u001b[1;33m\u001b[0m\u001b[1;33m\u001b[0m\u001b[0m\n\u001b[1;32m---> 32\u001b[1;33m                 \u001b[0mcomplete\u001b[0m\u001b[1;33m=\u001b[0m\u001b[0mdriver\u001b[0m\u001b[1;33m.\u001b[0m\u001b[0mfind_elements_by_class_name\u001b[0m\u001b[1;33m(\u001b[0m\u001b[1;34m\"dc-completed__body\"\u001b[0m\u001b[1;33m)\u001b[0m\u001b[1;33m\u001b[0m\u001b[1;33m\u001b[0m\u001b[0m\n\u001b[0m\u001b[0;32m     33\u001b[0m             \u001b[1;32mexcept\u001b[0m \u001b[1;33m(\u001b[0m\u001b[0mStaleElementReferenceException\u001b[0m\u001b[1;33m,\u001b[0m\u001b[0mElementClickInterceptedException\u001b[0m\u001b[1;33m)\u001b[0m\u001b[1;33m:\u001b[0m\u001b[1;33m\u001b[0m\u001b[1;33m\u001b[0m\u001b[0m\n\u001b[0;32m     34\u001b[0m                 \u001b[0mprint\u001b[0m\u001b[1;33m(\u001b[0m\u001b[1;34m\"fk excpetion\"\u001b[0m\u001b[1;33m)\u001b[0m\u001b[1;33m\u001b[0m\u001b[1;33m\u001b[0m\u001b[0m\n",
      "\u001b[1;32mD:\\Applications\\Anaconda3\\lib\\site-packages\\selenium\\webdriver\\remote\\webdriver.py\u001b[0m in \u001b[0;36mfind_elements_by_class_name\u001b[1;34m(self, name)\u001b[0m\n\u001b[0;32m    578\u001b[0m             \u001b[0melements\u001b[0m \u001b[1;33m=\u001b[0m \u001b[0mdriver\u001b[0m\u001b[1;33m.\u001b[0m\u001b[0mfind_elements_by_class_name\u001b[0m\u001b[1;33m(\u001b[0m\u001b[1;34m'foo'\u001b[0m\u001b[1;33m)\u001b[0m\u001b[1;33m\u001b[0m\u001b[1;33m\u001b[0m\u001b[0m\n\u001b[0;32m    579\u001b[0m         \"\"\"\n\u001b[1;32m--> 580\u001b[1;33m         \u001b[1;32mreturn\u001b[0m \u001b[0mself\u001b[0m\u001b[1;33m.\u001b[0m\u001b[0mfind_elements\u001b[0m\u001b[1;33m(\u001b[0m\u001b[0mby\u001b[0m\u001b[1;33m=\u001b[0m\u001b[0mBy\u001b[0m\u001b[1;33m.\u001b[0m\u001b[0mCLASS_NAME\u001b[0m\u001b[1;33m,\u001b[0m \u001b[0mvalue\u001b[0m\u001b[1;33m=\u001b[0m\u001b[0mname\u001b[0m\u001b[1;33m)\u001b[0m\u001b[1;33m\u001b[0m\u001b[1;33m\u001b[0m\u001b[0m\n\u001b[0m\u001b[0;32m    581\u001b[0m \u001b[1;33m\u001b[0m\u001b[0m\n\u001b[0;32m    582\u001b[0m     \u001b[1;32mdef\u001b[0m \u001b[0mfind_element_by_css_selector\u001b[0m\u001b[1;33m(\u001b[0m\u001b[0mself\u001b[0m\u001b[1;33m,\u001b[0m \u001b[0mcss_selector\u001b[0m\u001b[1;33m)\u001b[0m\u001b[1;33m:\u001b[0m\u001b[1;33m\u001b[0m\u001b[1;33m\u001b[0m\u001b[0m\n",
      "\u001b[1;32mD:\\Applications\\Anaconda3\\lib\\site-packages\\selenium\\webdriver\\remote\\webdriver.py\u001b[0m in \u001b[0;36mfind_elements\u001b[1;34m(self, by, value)\u001b[0m\n\u001b[0;32m   1005\u001b[0m         return self.execute(Command.FIND_ELEMENTS, {\n\u001b[0;32m   1006\u001b[0m             \u001b[1;34m'using'\u001b[0m\u001b[1;33m:\u001b[0m \u001b[0mby\u001b[0m\u001b[1;33m,\u001b[0m\u001b[1;33m\u001b[0m\u001b[1;33m\u001b[0m\u001b[0m\n\u001b[1;32m-> 1007\u001b[1;33m             'value': value})['value'] or []\n\u001b[0m\u001b[0;32m   1008\u001b[0m \u001b[1;33m\u001b[0m\u001b[0m\n\u001b[0;32m   1009\u001b[0m     \u001b[1;33m@\u001b[0m\u001b[0mproperty\u001b[0m\u001b[1;33m\u001b[0m\u001b[1;33m\u001b[0m\u001b[0m\n",
      "\u001b[1;32mD:\\Applications\\Anaconda3\\lib\\site-packages\\selenium\\webdriver\\remote\\webdriver.py\u001b[0m in \u001b[0;36mexecute\u001b[1;34m(self, driver_command, params)\u001b[0m\n\u001b[0;32m    319\u001b[0m         \u001b[0mresponse\u001b[0m \u001b[1;33m=\u001b[0m \u001b[0mself\u001b[0m\u001b[1;33m.\u001b[0m\u001b[0mcommand_executor\u001b[0m\u001b[1;33m.\u001b[0m\u001b[0mexecute\u001b[0m\u001b[1;33m(\u001b[0m\u001b[0mdriver_command\u001b[0m\u001b[1;33m,\u001b[0m \u001b[0mparams\u001b[0m\u001b[1;33m)\u001b[0m\u001b[1;33m\u001b[0m\u001b[1;33m\u001b[0m\u001b[0m\n\u001b[0;32m    320\u001b[0m         \u001b[1;32mif\u001b[0m \u001b[0mresponse\u001b[0m\u001b[1;33m:\u001b[0m\u001b[1;33m\u001b[0m\u001b[1;33m\u001b[0m\u001b[0m\n\u001b[1;32m--> 321\u001b[1;33m             \u001b[0mself\u001b[0m\u001b[1;33m.\u001b[0m\u001b[0merror_handler\u001b[0m\u001b[1;33m.\u001b[0m\u001b[0mcheck_response\u001b[0m\u001b[1;33m(\u001b[0m\u001b[0mresponse\u001b[0m\u001b[1;33m)\u001b[0m\u001b[1;33m\u001b[0m\u001b[1;33m\u001b[0m\u001b[0m\n\u001b[0m\u001b[0;32m    322\u001b[0m             response['value'] = self._unwrap_value(\n\u001b[0;32m    323\u001b[0m                 response.get('value', None))\n",
      "\u001b[1;32mD:\\Applications\\Anaconda3\\lib\\site-packages\\selenium\\webdriver\\remote\\errorhandler.py\u001b[0m in \u001b[0;36mcheck_response\u001b[1;34m(self, response)\u001b[0m\n\u001b[0;32m    240\u001b[0m                 \u001b[0malert_text\u001b[0m \u001b[1;33m=\u001b[0m \u001b[0mvalue\u001b[0m\u001b[1;33m[\u001b[0m\u001b[1;34m'alert'\u001b[0m\u001b[1;33m]\u001b[0m\u001b[1;33m.\u001b[0m\u001b[0mget\u001b[0m\u001b[1;33m(\u001b[0m\u001b[1;34m'text'\u001b[0m\u001b[1;33m)\u001b[0m\u001b[1;33m\u001b[0m\u001b[1;33m\u001b[0m\u001b[0m\n\u001b[0;32m    241\u001b[0m             \u001b[1;32mraise\u001b[0m \u001b[0mexception_class\u001b[0m\u001b[1;33m(\u001b[0m\u001b[0mmessage\u001b[0m\u001b[1;33m,\u001b[0m \u001b[0mscreen\u001b[0m\u001b[1;33m,\u001b[0m \u001b[0mstacktrace\u001b[0m\u001b[1;33m,\u001b[0m \u001b[0malert_text\u001b[0m\u001b[1;33m)\u001b[0m\u001b[1;33m\u001b[0m\u001b[1;33m\u001b[0m\u001b[0m\n\u001b[1;32m--> 242\u001b[1;33m         \u001b[1;32mraise\u001b[0m \u001b[0mexception_class\u001b[0m\u001b[1;33m(\u001b[0m\u001b[0mmessage\u001b[0m\u001b[1;33m,\u001b[0m \u001b[0mscreen\u001b[0m\u001b[1;33m,\u001b[0m \u001b[0mstacktrace\u001b[0m\u001b[1;33m)\u001b[0m\u001b[1;33m\u001b[0m\u001b[1;33m\u001b[0m\u001b[0m\n\u001b[0m\u001b[0;32m    243\u001b[0m \u001b[1;33m\u001b[0m\u001b[0m\n\u001b[0;32m    244\u001b[0m     \u001b[1;32mdef\u001b[0m \u001b[0m_value_or_default\u001b[0m\u001b[1;33m(\u001b[0m\u001b[0mself\u001b[0m\u001b[1;33m,\u001b[0m \u001b[0mobj\u001b[0m\u001b[1;33m,\u001b[0m \u001b[0mkey\u001b[0m\u001b[1;33m,\u001b[0m \u001b[0mdefault\u001b[0m\u001b[1;33m)\u001b[0m\u001b[1;33m:\u001b[0m\u001b[1;33m\u001b[0m\u001b[1;33m\u001b[0m\u001b[0m\n",
      "\u001b[1;31mWebDriverException\u001b[0m: Message: chrome not reachable\n  (Session info: chrome=80.0.3987.163)\n"
     ]
    }
   ],
   "source": [
    "exreciseFlag=0\n",
    "for exercise in exerciseSection:\n",
    "    if isVideo():\n",
    "        skipVideo()\n",
    "        isAdverAboutMobile()\n",
    "    if isAExerciseCode():\n",
    "        exerciseAnswer()\n",
    "        sumbitAnswer()\n",
    "        time.sleep(5)\n",
    "        continueClick()\n",
    "    if  isOptions():\n",
    "        print(exercise)\n",
    "        chooseOption()\n",
    "        time.sleep(5)\n",
    "        #driver.find_elements_by_class_name(\"dc-btn__content\")[-1].click()\n",
    "        try:\n",
    "            driver.find_elements_by_class_name(\"css-zmlfql-baseStyle-buttonStyle\")[-1].click()\n",
    "        except IndexError:\n",
    "            print(\"fk errors\")\n",
    "        try:\n",
    "            driver.find_elements_by_class_name(\"dc-btn.dc-btn--green.u-spacing-t2.next-exercise.animation--shake\")[-1].click()\n",
    "        except:\n",
    "            print(\"fk errors\")\n",
    "        try:\n",
    "            driver.find_element_by_class_name(\"modal-open\").send_keys(Keys.ESCAPE)\n",
    "        except:\n",
    "            print(\"fk promo\")\n",
    "        try:\n",
    "            driver.find_elements_by_class_name(\"dc-btn.dc-btn--green.u-spacing-t2.next-exercise.animation--shake\")[-1].click()\n",
    "        except:\n",
    "            print(\"fk promo-errors\")\n",
    "        try:\n",
    "            driver.find_elements_by_class_name(\"dc-completed__continue\")[-1].click()\n",
    "        except:\n",
    "            print(\"gofki\")\n",
    "            \n",
    "            \n",
    "            \n",
    "           \n",
    "    exreciseFlag+=1\n"
   ]
  },
  {
   "cell_type": "code",
   "execution_count": 95,
   "metadata": {},
   "outputs": [],
   "source": []
  },
  {
   "cell_type": "code",
   "execution_count": 74,
   "metadata": {},
   "outputs": [],
   "source": []
  },
  {
   "cell_type": "code",
   "execution_count": null,
   "metadata": {},
   "outputs": [],
   "source": [
    "# dc-promo-service-april_2020.dc-promo-service-dialog__wrapper.dc-u-ta-center"
   ]
  }
 ],
 "metadata": {
  "kernelspec": {
   "display_name": "Python 3",
   "language": "python",
   "name": "python3"
  },
  "language_info": {
   "codemirror_mode": {
    "name": "ipython",
    "version": 3
   },
   "file_extension": ".py",
   "mimetype": "text/x-python",
   "name": "python",
   "nbconvert_exporter": "python",
   "pygments_lexer": "ipython3",
   "version": "3.7.4"
  }
 },
 "nbformat": 4,
 "nbformat_minor": 4
}
